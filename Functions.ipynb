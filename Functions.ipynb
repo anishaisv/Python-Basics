{
 "cells": [
  {
   "cell_type": "markdown",
   "id": "6ff15a77-57d8-4f67-a097-069634154c97",
   "metadata": {},
   "source": [
    "#### Single Argument"
   ]
  },
  {
   "cell_type": "code",
   "execution_count": 13,
   "id": "6adc8c44-ad7e-45a7-a2e5-687f3368b65c",
   "metadata": {},
   "outputs": [
    {
     "name": "stdout",
     "output_type": "stream",
     "text": [
      "my name is Ahsin\n",
      "my name is Casi\n"
     ]
    }
   ],
   "source": [
    "def single_arg(arg):\n",
    "    print(\"my name is\",arg)\n",
    "    \n",
    "single_arg(\"Ahsin\")\n",
    "single_arg(\"Casi\")"
   ]
  },
  {
   "cell_type": "markdown",
   "id": "bf055b74-7649-4ce4-8709-300b416ba6d0",
   "metadata": {},
   "source": [
    "#### Two Arguments "
   ]
  },
  {
   "cell_type": "code",
   "execution_count": 57,
   "id": "3830b94c-c78f-44b9-b78d-c061166b9da0",
   "metadata": {},
   "outputs": [
    {
     "name": "stdout",
     "output_type": "stream",
     "text": [
      "my first name is Ahsin\n",
      "my second name is Casi\n"
     ]
    }
   ],
   "source": [
    "def first_arg(arg1,arg2):\n",
    "    print(\"my first name is\",arg1)\n",
    "    print(\"my second name is\",arg2)\n",
    "\n",
    "first_arg(\"Ahsin\",\"Casi\")"
   ]
  },
  {
   "cell_type": "markdown",
   "id": "455c9b0b-2153-4ef9-a464-b91d1f6d2a01",
   "metadata": {},
   "source": [
    "#### Two Arguments"
   ]
  },
  {
   "cell_type": "code",
   "execution_count": 29,
   "id": "69f35a4e-dbf3-412f-bf28-5027e4cb47bf",
   "metadata": {},
   "outputs": [
    {
     "name": "stdout",
     "output_type": "stream",
     "text": [
      "My name is Ahsin Casi\n"
     ]
    }
   ],
   "source": [
    "def mul_arg(arg1,arg2):\n",
    "    print(\"My name is\",arg1,arg2)\n",
    "    \n",
    "mul_arg(\"Ahsin\",\"Casi\")   #must have 2 value\n"
   ]
  },
  {
   "cell_type": "markdown",
   "id": "718aecc0-c8ec-4038-b68c-f89228ee822c",
   "metadata": {},
   "source": [
    "#### Arbitrary Arguments, *args"
   ]
  },
  {
   "cell_type": "code",
   "execution_count": 60,
   "id": "f87e70ee-cdf5-4916-b60d-e19758dec715",
   "metadata": {},
   "outputs": [
    {
     "name": "stdout",
     "output_type": "stream",
     "text": [
      "My second name is Casi\n"
     ]
    }
   ],
   "source": [
    "def mul_arg(*arg):   #if do not know how many arguments that will be passed into your function, add a * before the parameter name in the function definition\n",
    "    print(\"My second name is\",arg[1])   # index can be mentioned,\n",
    "    \n",
    "mul_arg(\"Ahsin\",\"Casi\")"
   ]
  },
  {
   "cell_type": "markdown",
   "id": "a306043a-a404-4e02-a946-48d730c18944",
   "metadata": {},
   "source": [
    "#### Keyword Arguments"
   ]
  },
  {
   "cell_type": "code",
   "execution_count": 41,
   "id": "315ef739-e33d-4c52-8ded-1aa1d0fcc56a",
   "metadata": {},
   "outputs": [
    {
     "name": "stdout",
     "output_type": "stream",
     "text": [
      "My youngest kid's name is ifti\n"
     ]
    }
   ],
   "source": [
    "def young_kid(kid2,kid1):\n",
    "    print(\"My youngest kid's name is\",kid2)\n",
    "\n",
    "young_kid(kid2=\"ifti\",kid1=\"ygab\")\n"
   ]
  },
  {
   "cell_type": "markdown",
   "id": "63602b2e-16e4-40b3-8c00-c5f0c012a54c",
   "metadata": {},
   "source": [
    "#### Default Parameter Value"
   ]
  },
  {
   "cell_type": "code",
   "execution_count": 54,
   "id": "9f6d916a-1d8c-4aa5-83b7-0a18b55ea3cf",
   "metadata": {},
   "outputs": [
    {
     "name": "stdout",
     "output_type": "stream",
     "text": [
      "my fav color is black\n",
      "my fav color is brown\n",
      "my fav color is blue\n"
     ]
    }
   ],
   "source": [
    "def fav_colour(fcolr=\"blue\"):  #default value is \"blue\".if no value is provided when calling the function, it will use \"blue\" as the default.\n",
    "    print(\"my fav color is\",fcolr)\n",
    "\n",
    "fav_colour(\"black\")\n",
    "fav_colour(\"brown\")\n",
    "fav_colour()       # here default will work"
   ]
  },
  {
   "cell_type": "markdown",
   "id": "49a08ad7-5ef3-4401-915c-c9e395bca690",
   "metadata": {},
   "source": [
    "#### Program to add two numbers"
   ]
  },
  {
   "cell_type": "code",
   "execution_count": 2,
   "id": "92e64ae4-8eb6-4f9b-a2cf-67c246e94812",
   "metadata": {},
   "outputs": [
    {
     "data": {
      "text/plain": [
       "11"
      ]
     },
     "execution_count": 2,
     "metadata": {},
     "output_type": "execute_result"
    }
   ],
   "source": [
    "def add_num(a,b):     #Function definition\n",
    "    total=0\n",
    "    total=a+b\n",
    "    return total\n",
    "add_num(3,8)          #Function call, there should b 2 values, bz there are 2 arguments"
   ]
  },
  {
   "cell_type": "markdown",
   "id": "7c1f06a8-fd1e-4f63-a98d-a3cfdf1422f0",
   "metadata": {},
   "source": [
    "#### Program to print maximum of Three Numbers"
   ]
  },
  {
   "cell_type": "code",
   "execution_count": 12,
   "id": "b3f283c5-e748-4852-b444-f5b12dbdee18",
   "metadata": {},
   "outputs": [
    {
     "name": "stdout",
     "output_type": "stream",
     "text": [
      "c is the biggest number\n"
     ]
    }
   ],
   "source": [
    "def maximum(a,b,c):\n",
    "    if a>b and a>c:\n",
    "        print(\"a is the biggest number\")\n",
    "    elif b>c:\n",
    "        print(\"b is the biggest number\")\n",
    "    else:\n",
    "        print(\"c is the biggest number\")\n",
    "\n",
    "maximum(56,34,77)"
   ]
  },
  {
   "cell_type": "markdown",
   "id": "cb67c396-504d-4de5-9c5d-81e8f1074b67",
   "metadata": {},
   "source": [
    "#### Passing a List as an Argument"
   ]
  },
  {
   "cell_type": "code",
   "execution_count": 64,
   "id": "7b023a83-5707-4651-b60d-bd7b3a496e19",
   "metadata": {},
   "outputs": [
    {
     "name": "stdout",
     "output_type": "stream",
     "text": [
      "Items in lists are ['fan', 'light', 'heater', 'charger', 'tv']\n"
     ]
    }
   ],
   "source": [
    "def lists(a):\n",
    "    print(\"Items in lists are\",a)\n",
    "\n",
    "a=[\"fan\",\"light\",\"heater\",\"charger\",\"tv\"]\n",
    "\n",
    "lists(a)"
   ]
  },
  {
   "cell_type": "code",
   "execution_count": 82,
   "id": "3eb83e6c-5176-43a9-a06f-b79a53f0e208",
   "metadata": {},
   "outputs": [
    {
     "name": "stdout",
     "output_type": "stream",
     "text": [
      "Item in list is fan\n",
      "Item in list is light\n",
      "Item in list is heater\n",
      "Item in list is charger\n",
      "Item in list is tv\n"
     ]
    }
   ],
   "source": [
    "def lists(a):\n",
    "    for i in a:\n",
    "        print(\"Item in list is\",i)\n",
    "\n",
    "a=[\"fan\",\"light\",\"heater\",\"charger\",\"tv\"]\n",
    "\n",
    "lists(a)"
   ]
  },
  {
   "cell_type": "markdown",
   "id": "c0e80d5b-a0ba-4a51-b2b0-b162112982b3",
   "metadata": {},
   "source": [
    "#### Return function"
   ]
  },
  {
   "cell_type": "code",
   "execution_count": 123,
   "id": "49154b0b-351e-45fe-bbdf-60c028812a6e",
   "metadata": {},
   "outputs": [
    {
     "name": "stdin",
     "output_type": "stream",
     "text": [
      "Enter a num 3\n"
     ]
    },
    {
     "name": "stdout",
     "output_type": "stream",
     "text": [
      "Multiplication result is 12\n"
     ]
    }
   ],
   "source": [
    "n=int(input(\"Enter a num\"))\n",
    "def cal(x):\n",
    "    y=x*4\n",
    "    return y\n",
    "print(\"Multiplication result is\",cal(n))"
   ]
  },
  {
   "cell_type": "markdown",
   "id": "fdfbf13f-5c5f-413f-95e9-65e4c9f25cb7",
   "metadata": {},
   "source": [
    "#### Program to print sum of All Numbers in two Lists"
   ]
  },
  {
   "cell_type": "code",
   "execution_count": 25,
   "id": "b7801ddd-ae97-442f-993e-7f13f8776057",
   "metadata": {},
   "outputs": [
    {
     "name": "stdout",
     "output_type": "stream",
     "text": [
      "Sum of ls is 800\n",
      "Sum of gf is 348\n"
     ]
    }
   ],
   "source": [
    "def printsum(a):   # The function takes only one list as an argument\n",
    "    total=0\n",
    "    for i in a:\n",
    "        total=total+i\n",
    "    return total\n",
    "    \n",
    "ls=[643,43,34,34,23,23]\n",
    "gf=[38,22,222,21,45]\n",
    "\n",
    "print(\"Sum of ls is\", printsum(ls))   # function call\n",
    "print(\"Sum of gf is\", printsum(gf))   \n"
   ]
  },
  {
   "cell_type": "markdown",
   "id": "8b10daba-66c2-440c-8a07-fc76e80cc0a4",
   "metadata": {},
   "source": [
    "#### Program to Multiply All Numbers in a List"
   ]
  },
  {
   "cell_type": "code",
   "execution_count": 30,
   "id": "f317f901-03b6-42d8-b430-32340af54b74",
   "metadata": {},
   "outputs": [
    {
     "name": "stdout",
     "output_type": "stream",
     "text": [
      "multiplication result is 21896000\n"
     ]
    }
   ],
   "source": [
    "def multiplyl(a):\n",
    "    total=1\n",
    "    for i in a:\n",
    "        total=total*i\n",
    "    return total\n",
    "\n",
    "mlist=[34,35,32,23,25]\n",
    "\n",
    "print(\"multiplication result is\",multiplyl(mlist))"
   ]
  },
  {
   "cell_type": "markdown",
   "id": "e828dfd1-8fbc-417a-b3c1-94cbd08ff77b",
   "metadata": {},
   "source": [
    "#### Program to Reverse a String"
   ]
  },
  {
   "cell_type": "code",
   "execution_count": 54,
   "id": "3258a0bd-b63a-4bb3-89a5-cfc99f6adabd",
   "metadata": {},
   "outputs": [
    {
     "name": "stdout",
     "output_type": "stream",
     "text": [
      "The reverse of anisha is ahsina\n",
      "The reverse of gaby is ybag\n"
     ]
    }
   ],
   "source": [
    "def reverse(a):\n",
    "    \n",
    "    add_here=\"\"\n",
    "    for i in range(len(a)-1,-1,-1):  #traverse from last string to the first\n",
    "        add_here+=a[i]          #its a[i], bz i is just the indices. a[i] holds the value\n",
    "    return add_here    # must return, otherwise u get a result as none\n",
    "\n",
    "stri=\"anisha\"\n",
    "str2=\"gaby\"\n",
    "\n",
    "print(\"The reverse of\",stri, \"is\",reverse(stri))\n",
    "print(\"The reverse of\",str2, \"is\",reverse(str2))\n",
    "  "
   ]
  },
  {
   "cell_type": "markdown",
   "id": "7d599ee0-ab59-417c-887c-43116c36449f",
   "metadata": {},
   "source": [
    "#### Create a calculator using +,-,*,/,%"
   ]
  },
  {
   "cell_type": "code",
   "execution_count": 106,
   "id": "53710e81-c596-40fa-8194-8e1c07a66473",
   "metadata": {},
   "outputs": [
    {
     "name": "stdin",
     "output_type": "stream",
     "text": [
      "Enter the first number 3\n",
      "Enter the second number 2\n",
      "Enter any of the operator +,-,*,/,% *\n"
     ]
    },
    {
     "name": "stdout",
     "output_type": "stream",
     "text": [
      "The multiplication of two numbers is 6\n"
     ]
    }
   ],
   "source": [
    "a=int(input(\"Enter the first number\"))\n",
    "b=int(input(\"Enter the second number\"))\n",
    "operator=input(\"Enter any of the operator +,-,*,/,%\")\n",
    "\n",
    "def calculator(a,b,o):\n",
    "    if operator==\"+\":\n",
    "        print(\"The sum of two numbers is\",a+b)\n",
    "    elif operator==\"-\":\n",
    "        print(\"The difference of two numbers is\",a-b)\n",
    "    elif operator==\"*\":\n",
    "        print(\"The multiplication of two numbers is\",a*b)\n",
    "    elif operator==\"/\":\n",
    "        print(\"The division of two numbers is\",a/b)\n",
    "    elif operator==\"%\":\n",
    "        print(\"The mod of two numbers is\",a%b)\n",
    "    else:\n",
    "        print(\"Enter a valid operator\")\n",
    "\n",
    "calculator(a,b,operator)\n"
   ]
  },
  {
   "cell_type": "markdown",
   "id": "edf014d0-228b-484c-89c6-99bd250e8e5f",
   "metadata": {},
   "source": [
    "#### Create a calculator using +,-,*,/,% (Define 2 or more functions)"
   ]
  },
  {
   "cell_type": "code",
   "execution_count": 114,
   "id": "e6be9dc4-f0e4-49fa-a698-950b6b8e0d9f",
   "metadata": {},
   "outputs": [
    {
     "name": "stdin",
     "output_type": "stream",
     "text": [
      "Enter the first number 78\n",
      "Enter the second number 3\n",
      "Enter any of the operator +,-,*,/,% %\n"
     ]
    },
    {
     "name": "stdout",
     "output_type": "stream",
     "text": [
      "The mode of two numbers is 0\n"
     ]
    }
   ],
   "source": [
    "a=int(input(\"Enter the first number\"))\n",
    "b=int(input(\"Enter the second number\"))\n",
    "operator=input(\"Enter any of the operator +,-,*,/,%\")\n",
    "\n",
    "def cal(operator):\n",
    "    if operator==\"+\":\n",
    "        add()         # goes to add() function\n",
    "    elif operator==\"-\":\n",
    "        sub()\n",
    "    elif operator==\"*\":\n",
    "        mul()\n",
    "    elif operator==\"/\":\n",
    "        div()\n",
    "    elif operator==\"%\":\n",
    "        mod()\n",
    "    else:\n",
    "        others()\n",
    "def add():\n",
    "    print(\"The sum of two numbers is\",a+b)\n",
    "def sub():\n",
    "    print(\"The difference of two numbers is\",a-b)\n",
    "def mul():\n",
    "    print(\"The multiplication of two numbers is\",a*b)\n",
    "def div():\n",
    "    print(\"The division of two numbers is\",a/b)\n",
    "def mod():\n",
    "    print(\"The mode of two numbers is\",a%b)\n",
    "def others():\n",
    "    print(\"Enter a valid operator\")\n",
    "\n",
    "cal(operator)\n"
   ]
  },
  {
   "cell_type": "code",
   "execution_count": null,
   "id": "fc202146-9ae6-4e83-98f1-eea127fef41b",
   "metadata": {},
   "outputs": [],
   "source": []
  }
 ],
 "metadata": {
  "kernelspec": {
   "display_name": "Python [conda env:base] *",
   "language": "python",
   "name": "conda-base-py"
  },
  "language_info": {
   "codemirror_mode": {
    "name": "ipython",
    "version": 3
   },
   "file_extension": ".py",
   "mimetype": "text/x-python",
   "name": "python",
   "nbconvert_exporter": "python",
   "pygments_lexer": "ipython3",
   "version": "3.12.7"
  }
 },
 "nbformat": 4,
 "nbformat_minor": 5
}

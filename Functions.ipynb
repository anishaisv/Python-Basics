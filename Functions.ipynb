{
 "cells": [
  {
   "cell_type": "markdown",
   "id": "6ff15a77-57d8-4f67-a097-069634154c97",
   "metadata": {},
   "source": [
    "#### Program to add two numbers"
   ]
  },
  {
   "cell_type": "code",
   "execution_count": 2,
   "id": "92e64ae4-8eb6-4f9b-a2cf-67c246e94812",
   "metadata": {},
   "outputs": [
    {
     "data": {
      "text/plain": [
       "11"
      ]
     },
     "execution_count": 2,
     "metadata": {},
     "output_type": "execute_result"
    }
   ],
   "source": [
    "def add_num(a,b):     #Function definition\n",
    "    total=0\n",
    "    total=a+b\n",
    "    return total\n",
    "add_num(3,8)          #Function call"
   ]
  },
  {
   "cell_type": "markdown",
   "id": "7c1f06a8-fd1e-4f63-a98d-a3cfdf1422f0",
   "metadata": {},
   "source": [
    "#### Program to print maximum of Three Numbers"
   ]
  },
  {
   "cell_type": "code",
   "execution_count": 12,
   "id": "b3f283c5-e748-4852-b444-f5b12dbdee18",
   "metadata": {},
   "outputs": [
    {
     "name": "stdout",
     "output_type": "stream",
     "text": [
      "c is the biggest number\n"
     ]
    }
   ],
   "source": [
    "def maximum(a,b,c):\n",
    "    if a>b and a>c:\n",
    "        print(\"a is the biggest number\")\n",
    "    elif b>c:\n",
    "        print(\"b is the biggest number\")\n",
    "    else:\n",
    "        print(\"c is the biggest number\")\n",
    "\n",
    "maximum(56,34,77)"
   ]
  },
  {
   "cell_type": "markdown",
   "id": "fdfbf13f-5c5f-413f-95e9-65e4c9f25cb7",
   "metadata": {},
   "source": [
    "#### Program to print sum of All Numbers in two Lists"
   ]
  },
  {
   "cell_type": "code",
   "execution_count": 25,
   "id": "b7801ddd-ae97-442f-993e-7f13f8776057",
   "metadata": {},
   "outputs": [
    {
     "name": "stdout",
     "output_type": "stream",
     "text": [
      "Sum of ls is 800\n",
      "Sum of gf is 348\n"
     ]
    }
   ],
   "source": [
    "def printsum(a):   # The function takes only one list as an argument\n",
    "    total=0\n",
    "    for i in a:\n",
    "        total=total+i\n",
    "    return total\n",
    "    \n",
    "ls=[643,43,34,34,23,23]\n",
    "gf=[38,22,222,21,45]\n",
    "\n",
    "print(\"Sum of ls is\", printsum(ls))   # function call\n",
    "print(\"Sum of gf is\", printsum(gf))   \n"
   ]
  },
  {
   "cell_type": "markdown",
   "id": "8b10daba-66c2-440c-8a07-fc76e80cc0a4",
   "metadata": {},
   "source": [
    "#### Program to Multiply All Numbers in a List"
   ]
  },
  {
   "cell_type": "code",
   "execution_count": 30,
   "id": "f317f901-03b6-42d8-b430-32340af54b74",
   "metadata": {},
   "outputs": [
    {
     "name": "stdout",
     "output_type": "stream",
     "text": [
      "multiplication result is 21896000\n"
     ]
    }
   ],
   "source": [
    "def multiplyl(a):\n",
    "    total=1\n",
    "    for i in a:\n",
    "        total=total*i\n",
    "    return total\n",
    "\n",
    "mlist=[34,35,32,23,25]\n",
    "\n",
    "print(\"multiplication result is\",multiplyl(mlist))"
   ]
  },
  {
   "cell_type": "markdown",
   "id": "e828dfd1-8fbc-417a-b3c1-94cbd08ff77b",
   "metadata": {},
   "source": [
    "#### Program to Reverse a String"
   ]
  },
  {
   "cell_type": "code",
   "execution_count": 54,
   "id": "3258a0bd-b63a-4bb3-89a5-cfc99f6adabd",
   "metadata": {},
   "outputs": [
    {
     "name": "stdout",
     "output_type": "stream",
     "text": [
      "The reverse of anisha is ahsina\n",
      "The reverse of gaby is ybag\n"
     ]
    }
   ],
   "source": [
    "def reverse(a):\n",
    "    \n",
    "    add_here=\"\"\n",
    "    for i in range(len(a)-1,-1,-1):  #traverse from last string to the first\n",
    "        add_here+=a[i]          #its a[i], bz i is just the indices. a[i] holds the value\n",
    "    return add_here    # must return, otherwise u get a result as none\n",
    "\n",
    "stri=\"anisha\"\n",
    "str2=\"gaby\"\n",
    "\n",
    "print(\"The reverse of\",stri, \"is\",reverse(stri))\n",
    "print(\"The reverse of\",str2, \"is\",reverse(str2))\n",
    "  "
   ]
  },
  {
   "cell_type": "code",
   "execution_count": null,
   "id": "3182df8d-e446-4fa0-8f9e-362dcc16b90a",
   "metadata": {},
   "outputs": [],
   "source": []
  }
 ],
 "metadata": {
  "kernelspec": {
   "display_name": "Python [conda env:base] *",
   "language": "python",
   "name": "conda-base-py"
  },
  "language_info": {
   "codemirror_mode": {
    "name": "ipython",
    "version": 3
   },
   "file_extension": ".py",
   "mimetype": "text/x-python",
   "name": "python",
   "nbconvert_exporter": "python",
   "pygments_lexer": "ipython3",
   "version": "3.12.7"
  }
 },
 "nbformat": 4,
 "nbformat_minor": 5
}

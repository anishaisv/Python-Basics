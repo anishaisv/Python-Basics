{
 "cells": [
  {
   "cell_type": "markdown",
   "id": "7792619a-7a8b-42ee-899b-7059336e9fa2",
   "metadata": {},
   "source": [
    "### Fizzbuzz Logic till 1000 numbers"
   ]
  },
  {
   "cell_type": "code",
   "execution_count": 72,
   "id": "5ce18a85-b56d-4532-93c5-d6ccf428c0e9",
   "metadata": {},
   "outputs": [
    {
     "name": "stdout",
     "output_type": "stream",
     "text": [
      "1\n",
      "2\n",
      "fizz\n",
      "4\n",
      "buzz\n",
      "fizz\n",
      "7\n",
      "8\n",
      "fizz\n",
      "buzz\n",
      "11\n",
      "fizz\n",
      "13\n",
      "14\n",
      "fizzbuzz\n",
      "16\n",
      "17\n",
      "fizz\n",
      "19\n",
      "buzz\n",
      "fizz\n",
      "22\n",
      "23\n",
      "fizz\n",
      "buzz\n",
      "26\n",
      "fizz\n",
      "28\n",
      "29\n",
      "fizzbuzz\n",
      "31\n",
      "32\n",
      "fizz\n",
      "34\n",
      "buzz\n",
      "fizz\n",
      "37\n",
      "38\n",
      "fizz\n",
      "buzz\n",
      "41\n",
      "fizz\n",
      "43\n",
      "44\n",
      "fizzbuzz\n",
      "46\n",
      "47\n",
      "fizz\n",
      "49\n",
      "buzz\n",
      "fizz\n",
      "52\n",
      "53\n",
      "fizz\n",
      "buzz\n",
      "56\n",
      "fizz\n",
      "58\n",
      "59\n",
      "fizzbuzz\n",
      "61\n",
      "62\n",
      "fizz\n",
      "64\n",
      "buzz\n",
      "fizz\n",
      "67\n",
      "68\n",
      "fizz\n",
      "buzz\n",
      "71\n",
      "fizz\n",
      "73\n",
      "74\n",
      "fizzbuzz\n",
      "76\n",
      "77\n",
      "fizz\n",
      "79\n",
      "buzz\n",
      "fizz\n",
      "82\n",
      "83\n",
      "fizz\n",
      "buzz\n",
      "86\n",
      "fizz\n",
      "88\n",
      "89\n",
      "fizzbuzz\n",
      "91\n",
      "92\n",
      "fizz\n",
      "94\n",
      "buzz\n",
      "fizz\n",
      "97\n",
      "98\n",
      "fizz\n",
      "buzz\n"
     ]
    }
   ],
   "source": [
    "for i in range(1,101):\n",
    "    if i%3==0 and i%5==0:\n",
    "        print(\"fizzbuzz\")\n",
    "    elif i%3==0:\n",
    "        print(\"fizz\")\n",
    "    elif i%5==0:\n",
    "        print(\"buzz\")\n",
    "    else:\n",
    "        print (i)\n",
    "    "
   ]
  },
  {
   "cell_type": "markdown",
   "id": "a021af4f-f0fe-4aa6-8ab6-2039be437d5f",
   "metadata": {},
   "source": [
    "#### Print total monthly expenses"
   ]
  },
  {
   "cell_type": "code",
   "execution_count": 44,
   "id": "8793b6c7-0c95-466d-9f4f-66c2391d02cb",
   "metadata": {},
   "outputs": [
    {
     "name": "stdout",
     "output_type": "stream",
     "text": [
      "1739\n"
     ]
    }
   ],
   "source": [
    "Expense= [200,230,333,444,532]\n",
    "total=0\n",
    "for i in Expense: #This loop directly iterates through each element in the Expense object.i represents the value of each element in the Expense iterable.For example, if Expense = [100, 200, 300], then i will take the values 100, 200, and 300 in each iteration.\n",
    "    total=total+i\n",
    "print(total)"
   ]
  },
  {
   "cell_type": "markdown",
   "id": "d5149acd-363f-42e5-8c9a-52f035220822",
   "metadata": {},
   "source": [
    "#### Print monthly expenses of each month"
   ]
  },
  {
   "cell_type": "code",
   "execution_count": 60,
   "id": "794f21a3-ac3f-4d98-aa05-13e8ba1848ff",
   "metadata": {},
   "outputs": [
    {
     "name": "stdout",
     "output_type": "stream",
     "text": [
      "Month 1 Expense is: 200\n",
      "Month 2 Expense is: 230\n",
      "Month 3 Expense is: 333\n",
      "Month 4 Expense is: 444\n",
      "Month 5 Expense is: 532\n",
      "Total expense is: 1739\n"
     ]
    }
   ],
   "source": [
    "Expense= [200,230,333,444,532]\n",
    "total=0\n",
    "for i in range(len(Expense)):                        #This loop iterates over the indices (positions) of the Expense iterable, rather than directly over the values.i will be an integer that represents the index of each element in Expense.For example, if Expense = [100, 200, 300], i will take the values 0, 1, and 2, which are the indices of the list.\n",
    "    print(\"Month\",(i+1),\"Expense is:\",Expense[i])              # Expense[0] is 200...\n",
    "    total =total+Expense[i]\n",
    "print(\"Total expense is:\",total)"
   ]
  },
  {
   "cell_type": "markdown",
   "id": "9518353f-4f0a-41fa-9c5a-9672a23234f8",
   "metadata": {},
   "source": [
    "#### Find my key from my home"
   ]
  },
  {
   "cell_type": "code",
   "execution_count": 94,
   "id": "9da472d2-b1f9-428e-96dd-cbcf64f8a1ad",
   "metadata": {},
   "outputs": [
    {
     "name": "stdout",
     "output_type": "stream",
     "text": [
      "Key is not found in hall\n",
      "Key is not found in kitchen\n",
      "Key is not found in bedroom\n",
      "Key is found in backyard\n"
     ]
    }
   ],
   "source": [
    "key_location=\"backyard\"\n",
    "home=[\"hall\",\"kitchen\",\"bedroom\",\"backyard\",\"upstairs\"]\n",
    "\n",
    "for i in home:\n",
    "    if (i==key_location):\n",
    "        print(\"Key is found in\",i)\n",
    "        break\n",
    "    else:\n",
    "        print(\"Key is not found in\",i)\n",
    "    "
   ]
  },
  {
   "cell_type": "markdown",
   "id": "c8d115f6-a972-4f0e-b2d2-bdbc36ca51e5",
   "metadata": {},
   "source": [
    "#### Print square of numbers between 1 to 5 expect even numbers"
   ]
  },
  {
   "cell_type": "code",
   "execution_count": 100,
   "id": "cfa63546-1da4-4935-8e3d-235562c7caba",
   "metadata": {},
   "outputs": [
    {
     "name": "stdout",
     "output_type": "stream",
     "text": [
      "1\n",
      "9\n",
      "25\n"
     ]
    }
   ],
   "source": [
    "for i in range(1,6):\n",
    "    if i%2==0:       #i = 1, i % 2 == 0 is False because 1 is odd.The continue is skipped.The print statement print(i * i) is executed, so 1 * 1 (which is 1) is printed.\n",
    "        continue      #i = 2,i % 2 == 0 is True because 2 is even.The continue is executed, which skips the remaining code in the loop for this iteration.The print statement is not executed.\n",
    "    print(i*i)\n",
    "        "
   ]
  },
  {
   "cell_type": "markdown",
   "id": "4bf21e72-be89-452e-ab8f-b4672368c01e",
   "metadata": {},
   "source": [
    "#### TRy while loop to print 5 numbers"
   ]
  },
  {
   "cell_type": "code",
   "execution_count": 5,
   "id": "b5c75598-ee94-4c4f-9688-504cbcbf33dc",
   "metadata": {},
   "outputs": [
    {
     "name": "stdout",
     "output_type": "stream",
     "text": [
      "2\n",
      "3\n",
      "4\n",
      "5\n",
      "6\n",
      "7\n"
     ]
    }
   ],
   "source": [
    "i=1\n",
    "while i<=6:\n",
    "    i=i+1\n",
    "    print(i)\n"
   ]
  },
  {
   "cell_type": "markdown",
   "id": "aff7a699-72e8-4718-9efc-f50dde68e710",
   "metadata": {},
   "source": [
    "#### Even Numbers Between 1 and 20\n",
    "\n"
   ]
  },
  {
   "cell_type": "code",
   "execution_count": 8,
   "id": "700c6c80-e007-4c7a-affb-08764e371f21",
   "metadata": {},
   "outputs": [
    {
     "name": "stdout",
     "output_type": "stream",
     "text": [
      "2\n",
      "4\n",
      "6\n",
      "8\n",
      "10\n",
      "12\n",
      "14\n",
      "16\n",
      "18\n",
      "20\n"
     ]
    }
   ],
   "source": [
    "for i in range(1,21):\n",
    "    if i%2==0:\n",
    "        print(i)"
   ]
  },
  {
   "cell_type": "markdown",
   "id": "c51de7b6-6fee-49f2-9a2b-5f05aae1a519",
   "metadata": {},
   "source": [
    "#### Print sum of given number"
   ]
  },
  {
   "cell_type": "code",
   "execution_count": 6,
   "id": "ad327b0e-a5f5-49e9-881d-00da98e29c8e",
   "metadata": {},
   "outputs": [
    {
     "name": "stdout",
     "output_type": "stream",
     "text": [
      "2278\n"
     ]
    }
   ],
   "source": [
    "n=67\n",
    "sum=0\n",
    "for i in range(1,n+1):\n",
    "    sum=sum+i\n",
    "print(sum)"
   ]
  },
  {
   "cell_type": "markdown",
   "id": "269c24a7-4b51-4b33-9999-c4342d199f69",
   "metadata": {},
   "source": [
    "#### Print a multiplication table of a given number"
   ]
  },
  {
   "cell_type": "code",
   "execution_count": 12,
   "id": "0460d941-4c1c-4cdc-b7f9-297c66d4513b",
   "metadata": {},
   "outputs": [
    {
     "name": "stdout",
     "output_type": "stream",
     "text": [
      "1 * 7 = 7\n",
      "2 * 7 = 14\n",
      "3 * 7 = 21\n",
      "4 * 7 = 28\n",
      "5 * 7 = 35\n",
      "6 * 7 = 42\n",
      "7 * 7 = 49\n",
      "8 * 7 = 56\n",
      "9 * 7 = 63\n",
      "10 * 7 = 70\n"
     ]
    }
   ],
   "source": [
    "n=7\n",
    "\n",
    "for i in range(1,11):\n",
    "    print(i,\"* 7 =\",i*7)"
   ]
  },
  {
   "cell_type": "markdown",
   "id": "101bbafa-7e45-4c70-ba75-ae694c29ce76",
   "metadata": {},
   "source": [
    "#### Display numbers from a list using a for loop."
   ]
  },
  {
   "cell_type": "code",
   "execution_count": 18,
   "id": "b8764ca7-9732-4aa7-ab40-5ac1c225a086",
   "metadata": {},
   "outputs": [
    {
     "name": "stdout",
     "output_type": "stream",
     "text": [
      "8\n",
      "4\n",
      "5\n",
      "6\n",
      "8\n",
      "5\n",
      "9\n",
      "7\n"
     ]
    }
   ],
   "source": [
    "li=[8,4,5,6,8,5,9,7]\n",
    "\n",
    "for i in li:\n",
    "    print(i)"
   ]
  },
  {
   "cell_type": "markdown",
   "id": "f5719998-a33a-4485-822d-4d4950c9f9e0",
   "metadata": {},
   "source": [
    "#### count the total number of digits in a number"
   ]
  },
  {
   "cell_type": "code",
   "execution_count": 31,
   "id": "f04ba5d4-14e6-4762-b8f2-b519501b670a",
   "metadata": {},
   "outputs": [
    {
     "name": "stdout",
     "output_type": "stream",
     "text": [
      "5\n"
     ]
    }
   ],
   "source": [
    "n=56789\n",
    "n=str(n)   #len(n) doesn't work for integers, so you need to convert n into a string to get the number of digits,\n",
    "sum=0\n",
    "for i in n:\n",
    "    sum=sum+1 # for each character in the string we are adding sum. so we will get total no of string\n",
    "print(sum)"
   ]
  },
  {
   "cell_type": "markdown",
   "id": "9e7edc76-77b9-432c-ae75-5355d48695d0",
   "metadata": {},
   "source": [
    "#### program that accepts a string and calculates the number of digits and letters"
   ]
  },
  {
   "cell_type": "code",
   "execution_count": 36,
   "id": "7137f038-1be1-40d0-973f-2f907d694813",
   "metadata": {},
   "outputs": [
    {
     "name": "stdout",
     "output_type": "stream",
     "text": [
      "Number of digits is 6\n",
      "Number of strings is 7\n"
     ]
    }
   ],
   "source": [
    "strn=(\"GRF67GH89JY05\")\n",
    "nums=0\n",
    "strs=0\n",
    "for i in strn:\n",
    "    if i.isdigit():\n",
    "        nums=nums+1\n",
    "    elif i.isalpha():\n",
    "        strs=strs+1\n",
    "print(\"Number of digits is\",nums)\n",
    "print(\"Number of strings is\",strs)\n"
   ]
  },
  {
   "cell_type": "markdown",
   "id": "07c6dce3-8485-41f6-810c-bfe252c2e6f9",
   "metadata": {},
   "source": [
    "#### program that iterates the integers from 1 to 25"
   ]
  },
  {
   "cell_type": "code",
   "execution_count": 42,
   "id": "c68ca928-4dd4-48fc-9d85-2962929f3e74",
   "metadata": {},
   "outputs": [
    {
     "name": "stdout",
     "output_type": "stream",
     "text": [
      "1\n",
      "2\n",
      "3\n",
      "4\n",
      "5\n",
      "6\n",
      "7\n",
      "8\n",
      "9\n",
      "10\n",
      "11\n",
      "12\n",
      "13\n",
      "14\n",
      "15\n",
      "16\n",
      "17\n",
      "18\n",
      "19\n",
      "20\n",
      "21\n",
      "22\n",
      "23\n",
      "24\n",
      "25\n"
     ]
    }
   ],
   "source": [
    "for i in range(1,26):\n",
    "    print(i)"
   ]
  },
  {
   "cell_type": "markdown",
   "id": "273feae4-6ba0-4a85-af37-6b928dd3b9cd",
   "metadata": {},
   "source": [
    "#### program to check if the given string is a palindrome"
   ]
  },
  {
   "cell_type": "code",
   "execution_count": 5,
   "id": "c876a12f-43d2-42c1-bc77-3925613da84d",
   "metadata": {},
   "outputs": [
    {
     "name": "stdin",
     "output_type": "stream",
     "text": [
      "Enter a string banana\n"
     ]
    },
    {
     "name": "stdout",
     "output_type": "stream",
     "text": [
      "n is not palindrome\n"
     ]
    }
   ],
   "source": [
    "n=input(\"Enter a string\")\n",
    "length=len(n)\n",
    "for i in range(length//2):\n",
    "    if n[i]!=n[length-1-i]:\n",
    "        print(\"n is not palindrome\")\n",
    "        break\n",
    "else:\n",
    "    print(\"n is palindrome\")"
   ]
  },
  {
   "cell_type": "markdown",
   "id": "f63b6ec4-7a7f-4936-915a-514994eb7305",
   "metadata": {},
   "source": [
    "#### program that accepts a word from the user and reverses it"
   ]
  },
  {
   "cell_type": "code",
   "execution_count": 15,
   "id": "4a2dfbe2-6397-4b35-b190-c437431fef4f",
   "metadata": {},
   "outputs": [
    {
     "name": "stdin",
     "output_type": "stream",
     "text": [
      "Enter the word anisha\n"
     ]
    },
    {
     "name": "stdout",
     "output_type": "stream",
     "text": [
      "ahsina\n"
     ]
    }
   ],
   "source": [
    "w=input(\"Enter the word\")\n",
    "reverse=\"\"             #Initializes an empty string to store the reversed word.\n",
    "for i in range(len(w)-1,-1,-1):    #Loops through the indices of the word in reverse order.len(w) - 1: Starts from the last index.-1 ends in first index and The loop goes backwards, ending at index 0.\n",
    "    reverse+=w[i]        #w[i] refers letters in each index of w. \n",
    "print(reverse)"
   ]
  },
  {
   "cell_type": "markdown",
   "id": "663dff30-a42a-441c-a694-80c3f42466ea",
   "metadata": {},
   "source": [
    "#### Python program to check if a given number is an Armstrong number\n"
   ]
  },
  {
   "cell_type": "code",
   "execution_count": 24,
   "id": "9ada767f-86b1-4749-ad23-4ec47ea0aba5",
   "metadata": {},
   "outputs": [
    {
     "name": "stdin",
     "output_type": "stream",
     "text": [
      "Enter a number 153\n"
     ]
    },
    {
     "name": "stdout",
     "output_type": "stream",
     "text": [
      "It's an armstrong number\n"
     ]
    }
   ],
   "source": [
    "n=input(\"Enter a number\")  # its a string now\n",
    "length=len(n)      # bz u can get length of a string only, not an integer\n",
    "sum=0\n",
    "for i in range (len(n)):\n",
    "    \n",
    "    sum+=int(n[i])**length  # logic is Convert each digit to an integer and raise it to the power of length\n",
    "\n",
    "if sum == int(n):\n",
    "    print(\"It's an armstrong number\")\n",
    "else:\n",
    "    print(\"It's not an armstrong number\")"
   ]
  },
  {
   "cell_type": "markdown",
   "id": "044694ea-260e-44cb-99c0-f4ea02783c88",
   "metadata": {},
   "source": [
    "#### program to count the number of even and odd numbers from a series of numbers"
   ]
  },
  {
   "cell_type": "code",
   "execution_count": 48,
   "id": "702c5bc0-480d-4e5a-8228-170f985ddc2a",
   "metadata": {},
   "outputs": [
    {
     "name": "stdout",
     "output_type": "stream",
     "text": [
      "Number of odd numbers are 5\n",
      "Number of even numbers are 3\n"
     ]
    }
   ],
   "source": [
    "ls=[78,9,76,99,45,87,66,43]\n",
    "even=0\n",
    "odd=0\n",
    "for i in ls:\n",
    "    if i%2 ==0:\n",
    "        even+=1\n",
    "    else:\n",
    "        odd+=1\n",
    "print(\"Number of odd numbers are\", odd)\n",
    "print(\"Number of even numbers are\", even)\n",
    "\n",
    "        "
   ]
  },
  {
   "cell_type": "markdown",
   "id": "02dc004c-d9e1-4347-aeb7-57e0d17d04d0",
   "metadata": {},
   "source": [
    "#### program to get the Fibonacci series between 0 to 50"
   ]
  },
  {
   "cell_type": "code",
   "execution_count": 10,
   "id": "d6f8ae14-d671-4a90-b13b-2b7bb95a2f57",
   "metadata": {},
   "outputs": [
    {
     "name": "stdout",
     "output_type": "stream",
     "text": [
      "0\n",
      "1\n",
      "1\n",
      "2\n",
      "3\n",
      "5\n",
      "8\n",
      "13\n",
      "21\n",
      "34\n"
     ]
    }
   ],
   "source": [
    "num=50\n",
    "first_num=0\n",
    "second_num=1\n",
    "\n",
    "for i in range(num):\n",
    "    print(first_num)\n",
    "    first_num, second_num = second_num,first_num+second_num   #Update Fibonacci numbers\n",
    "    \n",
    "    if first_num>50:       # Print numbers from 1 to 50\n",
    "        break\n",
    "    \n"
   ]
  },
  {
   "cell_type": "markdown",
   "id": "52cc7eb7-e621-4c9f-b2d3-b4e167c6a93d",
   "metadata": {},
   "source": [
    "#### program to find the factorial of a given number\n"
   ]
  },
  {
   "cell_type": "code",
   "execution_count": 15,
   "id": "96fa54f0-6226-4619-968c-23c9651267bc",
   "metadata": {},
   "outputs": [
    {
     "name": "stdout",
     "output_type": "stream",
     "text": [
      "Factorial of 10 is 3628800\n"
     ]
    }
   ],
   "source": [
    "n=10\n",
    "factorial=1\n",
    "\n",
    "for i in range(1,n+1):\n",
    "   \n",
    "    factorial =factorial*i\n",
    "\n",
    "print(\"Factorial of\", n,  \"is\", factorial)\n",
    "    \n"
   ]
  },
  {
   "cell_type": "code",
   "execution_count": 17,
   "id": "38b7f5ac-38dc-4c5d-b29a-e7806618f307",
   "metadata": {},
   "outputs": [
    {
     "data": {
      "text/plain": [
       "'C:\\\\Users\\\\arulr\\\\DA course\\\\Python'"
      ]
     },
     "execution_count": 17,
     "metadata": {},
     "output_type": "execute_result"
    }
   ],
   "source": [
    "import os\n",
    "os.getcwd()"
   ]
  },
  {
   "cell_type": "code",
   "execution_count": null,
   "id": "a997b569-251f-43e5-9c14-a6480069a14f",
   "metadata": {},
   "outputs": [],
   "source": []
  }
 ],
 "metadata": {
  "kernelspec": {
   "display_name": "Python [conda env:base] *",
   "language": "python",
   "name": "conda-base-py"
  },
  "language_info": {
   "codemirror_mode": {
    "name": "ipython",
    "version": 3
   },
   "file_extension": ".py",
   "mimetype": "text/x-python",
   "name": "python",
   "nbconvert_exporter": "python",
   "pygments_lexer": "ipython3",
   "version": "3.12.7"
  }
 },
 "nbformat": 4,
 "nbformat_minor": 5
}

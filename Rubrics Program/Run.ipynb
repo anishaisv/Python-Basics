{
 "cells": [
  {
   "cell_type": "code",
   "execution_count": 1,
   "id": "93de24aa-1c7d-4c58-88be-fc0e9969b9be",
   "metadata": {},
   "outputs": [
    {
     "name": "stdout",
     "output_type": "stream",
     "text": [
      "\u001b[1m============================= test session starts =============================\u001b[0m\n",
      "platform win32 -- Python 3.12.7, pytest-7.4.4, pluggy-1.0.0\n",
      "rootdir: C:\\Users\\arulr\\DA course\\Python\\ASSESSMENTS\\Rubrics Assessment\n",
      "plugins: anyio-4.2.0\n",
      "collected 2 items\n",
      "\n",
      "test.py \u001b[32m.\u001b[0m\u001b[32m.\u001b[0m\u001b[32m                                                               [100%]\u001b[0m\n",
      "\n",
      "\u001b[32m============================== \u001b[32m\u001b[1m2 passed\u001b[0m\u001b[32m in 2.95s\u001b[0m\u001b[32m ==============================\u001b[0m\n"
     ]
    }
   ],
   "source": [
    "!python -m pytest test.py"
   ]
  },
  {
   "cell_type": "code",
   "execution_count": null,
   "id": "2bb692c4-5d73-4e46-8931-5ef7018ae439",
   "metadata": {},
   "outputs": [],
   "source": []
  }
 ],
 "metadata": {
  "kernelspec": {
   "display_name": "Python [conda env:base] *",
   "language": "python",
   "name": "conda-base-py"
  },
  "language_info": {
   "codemirror_mode": {
    "name": "ipython",
    "version": 3
   },
   "file_extension": ".py",
   "mimetype": "text/x-python",
   "name": "python",
   "nbconvert_exporter": "python",
   "pygments_lexer": "ipython3",
   "version": "3.12.7"
  }
 },
 "nbformat": 4,
 "nbformat_minor": 5
}

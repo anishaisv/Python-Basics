{
 "cells": [
  {
   "cell_type": "code",
   "execution_count": 1,
   "id": "cc0a8fc2-8c63-4924-a215-2760684720ea",
   "metadata": {},
   "outputs": [
    {
     "name": "stdout",
     "output_type": "stream",
     "text": [
      "Hello\n"
     ]
    }
   ],
   "source": [
    "print(\"Hello\")"
   ]
  },
  {
   "cell_type": "code",
   "execution_count": 3,
   "id": "1e066c59-fd32-4681-b17e-e7484ef4da1d",
   "metadata": {},
   "outputs": [],
   "source": [
    "a=10"
   ]
  },
  {
   "cell_type": "code",
   "execution_count": 5,
   "id": "478a7e05-9659-49d4-86f8-074f51f86397",
   "metadata": {},
   "outputs": [
    {
     "name": "stdin",
     "output_type": "stream",
     "text": [
      "Enter 1st num: 1\n",
      "Enter 2nd num: 5\n"
     ]
    },
    {
     "name": "stdout",
     "output_type": "stream",
     "text": [
      "Sum is: 15\n"
     ]
    }
   ],
   "source": [
    "x=input(\"Enter 1st num:\")\n",
    "y=input(\"Enter 2nd num:\")\n",
    "z=x+y     \n",
    "print(\"Sum is:\",z)"
   ]
  },
  {
   "cell_type": "code",
   "execution_count": 7,
   "id": "ef1fdc0b-c70e-43d0-9002-6d78af93c492",
   "metadata": {},
   "outputs": [
    {
     "name": "stdin",
     "output_type": "stream",
     "text": [
      "Enter 1st num: 3\n",
      "Enter 2nd num: 3\n"
     ]
    },
    {
     "name": "stdout",
     "output_type": "stream",
     "text": [
      "Sum is: 6\n"
     ]
    }
   ],
   "source": [
    "#considered as string. so conver into integer\n",
    "x=input(\"Enter 1st num:\")\n",
    "y=input(\"Enter 2nd num:\")\n",
    "z=int(x)+int(y)     \n",
    "print(\"Sum is:\",z)"
   ]
  },
  {
   "cell_type": "code",
   "execution_count": 13,
   "id": "311b069e-1c13-45c8-9455-00285a13c553",
   "metadata": {},
   "outputs": [
    {
     "name": "stdout",
     "output_type": "stream",
     "text": [
      "Hello learners!\n"
     ]
    },
    {
     "name": "stdin",
     "output_type": "stream",
     "text": [
      "Enter a number: 45\n"
     ]
    },
    {
     "name": "stdout",
     "output_type": "stream",
     "text": [
      "The trivia for entered number,45 is 45 is the sapphire wedding anniversary in years of marriage.\n"
     ]
    }
   ],
   "source": [
    "import requests\n",
    "\n",
    "def main():\n",
    "    print(\"Hello learners!\")\n",
    "    n=int(input(\"Enter a number:\"))\n",
    "    trivia=trivia_fetch(n)\n",
    "    print(f\"The trivia for entered number,{n} is {trivia['text']}\")\n",
    "\n",
    "def trivia_fetch(num):\n",
    "    response=requests.get(f'http://numbersapi.com/{num}?json')\n",
    "    return response.json() \n",
    "\n",
    "if __name__==\"__main__\":\n",
    "  main()"
   ]
  },
  {
   "cell_type": "code",
   "execution_count": 45,
   "id": "9298589d-d9ee-48a8-b082-57bcd3747576",
   "metadata": {},
   "outputs": [
    {
     "name": "stdout",
     "output_type": "stream",
     "text": [
      "Note: you may need to restart the kernel to use updated packages.Requirement already satisfied: requests in c:\\users\\arulr\\anaconda3\\lib\\site-packages (2.32.3)\n",
      "Requirement already satisfied: charset-normalizer<4,>=2 in c:\\users\\arulr\\anaconda3\\lib\\site-packages (from requests) (3.3.2)\n",
      "\n",
      "Requirement already satisfied: idna<4,>=2.5 in c:\\users\\arulr\\anaconda3\\lib\\site-packages (from requests) (3.7)\n",
      "Requirement already satisfied: urllib3<3,>=1.21.1 in c:\\users\\arulr\\anaconda3\\lib\\site-packages (from requests) (2.2.3)\n",
      "Requirement already satisfied: certifi>=2017.4.17 in c:\\users\\arulr\\anaconda3\\lib\\site-packages (from requests) (2025.1.31)\n"
     ]
    }
   ],
   "source": [
    "pip install requests\n"
   ]
  },
  {
   "cell_type": "code",
   "execution_count": 58,
   "id": "3d1c077c-84bb-4e05-b657-f93c5f0e2a31",
   "metadata": {},
   "outputs": [
    {
     "name": "stderr",
     "output_type": "stream",
     "text": [
      "usage: ipykernel_launcher.py [-h] number\n",
      "ipykernel_launcher.py: error: argument number: invalid int value: 'C:\\\\Users\\\\arulr\\\\AppData\\\\Roaming\\\\jupyter\\\\runtime\\\\kernel-93f777da-879f-4e07-a5e8-f32179c4c52e.json'\n"
     ]
    },
    {
     "ename": "SystemExit",
     "evalue": "2",
     "output_type": "error",
     "traceback": [
      "An exception has occurred, use %tb to see the full traceback.\n",
      "\u001b[1;31mSystemExit\u001b[0m\u001b[1;31m:\u001b[0m 2\n"
     ]
    },
    {
     "name": "stderr",
     "output_type": "stream",
     "text": [
      "C:\\Users\\arulr\\anaconda3\\Lib\\site-packages\\IPython\\core\\interactiveshell.py:3585: UserWarning: To exit: use 'exit', 'quit', or Ctrl-D.\n",
      "  warn(\"To exit: use 'exit', 'quit', or Ctrl-D.\", stacklevel=1)\n"
     ]
    }
   ],
   "source": []
  },
  {
   "cell_type": "code",
   "execution_count": null,
   "id": "9bc4be0c-e62f-4842-bc2d-b12a8a8f13a8",
   "metadata": {},
   "outputs": [],
   "source": []
  },
  {
   "cell_type": "code",
   "execution_count": null,
   "id": "909c29c0-35b4-44a5-93d9-c5628c7be04d",
   "metadata": {},
   "outputs": [],
   "source": []
  }
 ],
 "metadata": {
  "kernelspec": {
   "display_name": "Python [conda env:base] *",
   "language": "python",
   "name": "conda-base-py"
  },
  "language_info": {
   "codemirror_mode": {
    "name": "ipython",
    "version": 3
   },
   "file_extension": ".py",
   "mimetype": "text/x-python",
   "name": "python",
   "nbconvert_exporter": "python",
   "pygments_lexer": "ipython3",
   "version": "3.12.7"
  }
 },
 "nbformat": 4,
 "nbformat_minor": 5
}

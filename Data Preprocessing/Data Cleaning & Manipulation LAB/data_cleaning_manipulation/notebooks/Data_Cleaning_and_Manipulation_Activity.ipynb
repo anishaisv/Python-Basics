{
 "cells": [
  {
   "cell_type": "markdown",
   "id": "a159a478",
   "metadata": {},
   "source": [
    "# Data Cleaning and Manipulation Activity\n",
    "In this activity, you'll clean and prepare two datasets, **Product Inventory** and **Sales Data**, for analysis. "
   ]
  },
  {
   "cell_type": "markdown",
   "id": "fca58799",
   "metadata": {},
   "source": [
    "## Task 1: Data Import\n",
    "1. Import the datasets.\n",
    "    - For the CSV file: Use read_csv. \n",
    "    - For the Excel file: Use read_excel.\n",
    "2. Inspects the structure of the datasets."
   ]
  },
  {
   "cell_type": "code",
   "execution_count": 131,
   "id": "4601bee6",
   "metadata": {},
   "outputs": [
    {
     "name": "stdout",
     "output_type": "stream",
     "text": [
      "Sales Data Info:\n",
      "<class 'pandas.core.frame.DataFrame'>\n",
      "RangeIndex: 5 entries, 0 to 4\n",
      "Data columns (total 5 columns):\n",
      " #   Column      Non-Null Count  Dtype  \n",
      "---  ------      --------------  -----  \n",
      " 0   SaleID      5 non-null      int64  \n",
      " 1   Product_ID  5 non-null      int64  \n",
      " 2   Quantity    5 non-null      int64  \n",
      " 3   Price       4 non-null      float64\n",
      " 4   SaleDate    5 non-null      object \n",
      "dtypes: float64(1), int64(3), object(1)\n",
      "memory usage: 332.0+ bytes\n",
      "None\n",
      "   SaleID  Product_ID  Quantity  Price    SaleDate\n",
      "0       1         101         2  19.99  2024-11-01\n",
      "1       2         102         1  29.99  2024-11-02\n",
      "2       3         103         3    NaN  2024-11-03\n",
      "3       4         101         5  19.99  2024-11-04\n",
      "4       5         104         2  39.99  2024-11-05\n",
      "\n",
      "Inventory Data Info:\n",
      "<class 'pandas.core.frame.DataFrame'>\n",
      "RangeIndex: 5 entries, 0 to 4\n",
      "Data columns (total 3 columns):\n",
      " #   Column       Non-Null Count  Dtype \n",
      "---  ------       --------------  ----- \n",
      " 0   ProductID    5 non-null      int64 \n",
      " 1   ProductName  5 non-null      object\n",
      " 2   Stock        5 non-null      int64 \n",
      "dtypes: int64(2), object(1)\n",
      "memory usage: 252.0+ bytes\n",
      "None\n",
      "   ProductID    ProductName  Stock\n",
      "0        101       Widget A     10\n",
      "1        102       Gadget B      5\n",
      "2        103  Thingamajig C      7\n",
      "3        104    Doohickey D      8\n",
      "4        105  Contraption E      3\n"
     ]
    }
   ],
   "source": [
    "import pandas as pd  # Pandas library for data manipulation\n",
    "\n",
    "sales_data =  pd.read_csv(\"C:/Users/arulr/DA course/Python/Data Preprocessing/LAB/data_cleaning_manipulation/data/sales_data.csv\") # Load the sales data CSV file\n",
    "inventory_data = pd.read_excel(\"C:/Users/arulr/DA course/Python/Data Preprocessing/LAB/data_cleaning_manipulation/data/product_inventory.xlsx\") # Load the inventory data Excel file\n",
    "\n",
    "# Inspect the sales data\n",
    "print(\"Sales Data Info:\")\n",
    "print(sales_data.info())  # Inspect structure and data types of sales data\n",
    "print(sales_data.head())  # View the first few rows of sales data\n",
    "\n",
    "# Inspect the inventory data\n",
    "print(\"\\nInventory Data Info:\")\n",
    "print(inventory_data.info())  # Inspect structure and data types of inventory data\n",
    "print(inventory_data.head())  # View the first few rows of inventory data"
   ]
  },
  {
   "cell_type": "markdown",
   "id": "0f82c788",
   "metadata": {},
   "source": [
    "## Task 2: Data Cleaning\n",
    "1. Clean the data.\n",
    "\n",
    "    - When cleaning data, look incosistent format issues and consider the appropriate methods to address them.\n",
    "    - Focus on making the datasets as complete and compatible as possible before moving to the next step. \n",
    "    - Test your work by inspecting the datasets after cleaning.\n",
    "\n",
    "**Checklist:**\n",
    "\n",
    "-   Have you checked for and handled missing values?\n",
    "-   Have you removed duplicate rows if necessary?\n",
    "-   Are all columns in the correct format?\n",
    "-   Are column names consistent across datasets?"
   ]
  },
  {
   "cell_type": "markdown",
   "id": "7a37dc3a-decf-4166-a056-e5b6534331bb",
   "metadata": {},
   "source": [
    "## Data Cleaning for Sales_data"
   ]
  },
  {
   "cell_type": "code",
   "execution_count": 134,
   "id": "5fc1892e",
   "metadata": {},
   "outputs": [
    {
     "data": {
      "text/plain": [
       "SaleID        0\n",
       "Product_ID    0\n",
       "Quantity      0\n",
       "Price         1\n",
       "SaleDate      0\n",
       "dtype: int64"
      ]
     },
     "execution_count": 134,
     "metadata": {},
     "output_type": "execute_result"
    }
   ],
   "source": [
    "sales_data.isna().sum() #checking for null values"
   ]
  },
  {
   "cell_type": "code",
   "execution_count": 135,
   "id": "bc15caab-a6f3-42e1-be2b-a2dd88a92978",
   "metadata": {},
   "outputs": [
    {
     "data": {
      "text/plain": [
       "<Axes: >"
      ]
     },
     "execution_count": 135,
     "metadata": {},
     "output_type": "execute_result"
    },
    {
     "data": {
      "image/png": "[encoded data removed]",
      "text/plain": [
       "<Figure size 640x480 with 2 Axes>"
      ]
     },
     "metadata": {},
     "output_type": "display_data"
    }
   ],
   "source": [
    "import seaborn as sns\n",
    "sns.heatmap(sales_data.isna()) #checking for null values using heat map"
   ]
  },
  {
   "cell_type": "code",
   "execution_count": 136,
   "id": "579e9968-a2a3-4af4-9fe0-595ac79948b1",
   "metadata": {},
   "outputs": [
    {
     "data": {
      "text/plain": [
       "24.99"
      ]
     },
     "execution_count": 136,
     "metadata": {},
     "output_type": "execute_result"
    }
   ],
   "source": [
    "#Filling the missing values using median\n",
    "medianp=round(sales_data['Price'].median(),2) # Finding the mean of price column\n",
    "medianp"
   ]
  },
  {
   "cell_type": "code",
   "execution_count": 137,
   "id": "be0a4e36-8913-40f3-ab31-2342b3a71888",
   "metadata": {},
   "outputs": [
    {
     "data": {
      "text/html": [
       "<div>\n",
       "<style scoped>\n",
       "    .dataframe tbody tr th:only-of-type {\n",
       "        vertical-align: middle;\n",
       "    }\n",
       "\n",
       "    .dataframe tbody tr th {\n",
       "        vertical-align: top;\n",
       "    }\n",
       "\n",
       "    .dataframe thead th {\n",
       "        text-align: right;\n",
       "    }\n",
       "</style>\n",
       "<table border=\"1\" class=\"dataframe\">\n",
       "  <thead>\n",
       "    <tr style=\"text-align: right;\">\n",
       "      <th></th>\n",
       "      <th>SaleID</th>\n",
       "      <th>Product_ID</th>\n",
       "      <th>Quantity</th>\n",
       "      <th>Price</th>\n",
       "      <th>SaleDate</th>\n",
       "    </tr>\n",
       "  </thead>\n",
       "  <tbody>\n",
       "    <tr>\n",
       "      <th>0</th>\n",
       "      <td>1</td>\n",
       "      <td>101</td>\n",
       "      <td>2</td>\n",
       "      <td>19.99</td>\n",
       "      <td>2024-11-01</td>\n",
       "    </tr>\n",
       "    <tr>\n",
       "      <th>1</th>\n",
       "      <td>2</td>\n",
       "      <td>102</td>\n",
       "      <td>1</td>\n",
       "      <td>29.99</td>\n",
       "      <td>2024-11-02</td>\n",
       "    </tr>\n",
       "    <tr>\n",
       "      <th>2</th>\n",
       "      <td>3</td>\n",
       "      <td>103</td>\n",
       "      <td>3</td>\n",
       "      <td>24.99</td>\n",
       "      <td>2024-11-03</td>\n",
       "    </tr>\n",
       "    <tr>\n",
       "      <th>3</th>\n",
       "      <td>4</td>\n",
       "      <td>101</td>\n",
       "      <td>5</td>\n",
       "      <td>19.99</td>\n",
       "      <td>2024-11-04</td>\n",
       "    </tr>\n",
       "    <tr>\n",
       "      <th>4</th>\n",
       "      <td>5</td>\n",
       "      <td>104</td>\n",
       "      <td>2</td>\n",
       "      <td>39.99</td>\n",
       "      <td>2024-11-05</td>\n",
       "    </tr>\n",
       "  </tbody>\n",
       "</table>\n",
       "</div>"
      ],
      "text/plain": [
       "   SaleID  Product_ID  Quantity  Price    SaleDate\n",
       "0       1         101         2  19.99  2024-11-01\n",
       "1       2         102         1  29.99  2024-11-02\n",
       "2       3         103         3  24.99  2024-11-03\n",
       "3       4         101         5  19.99  2024-11-04\n",
       "4       5         104         2  39.99  2024-11-05"
      ]
     },
     "execution_count": 137,
     "metadata": {},
     "output_type": "execute_result"
    }
   ],
   "source": [
    "# Fill the computed mean value on the missing field\n",
    "#sales_data['Price'].fillna(meanp,inplace=True) .fillna(..., inplace=True) on a column is not guaranteed to modify the original DataFrame safely. It modifies a temporary copy, not the original column.\n",
    "sales_data.fillna({'Price': medianp}, inplace=True)\n",
    "sales_data"
   ]
  },
  {
   "cell_type": "code",
   "execution_count": 138,
   "id": "90ca9110-5d99-4a9b-ad65-b83e5883db21",
   "metadata": {},
   "outputs": [
    {
     "data": {
      "text/plain": [
       "0"
      ]
     },
     "execution_count": 138,
     "metadata": {},
     "output_type": "execute_result"
    }
   ],
   "source": [
    "# check for duplicates\n",
    "sales_data.duplicated().sum() #result is 0. so no duplicates"
   ]
  },
  {
   "cell_type": "code",
   "execution_count": 139,
   "id": "60095eac-801a-4369-b170-b9be573d4c3a",
   "metadata": {},
   "outputs": [
    {
     "data": {
      "text/html": [
       "<div>\n",
       "<style scoped>\n",
       "    .dataframe tbody tr th:only-of-type {\n",
       "        vertical-align: middle;\n",
       "    }\n",
       "\n",
       "    .dataframe tbody tr th {\n",
       "        vertical-align: top;\n",
       "    }\n",
       "\n",
       "    .dataframe thead th {\n",
       "        text-align: right;\n",
       "    }\n",
       "</style>\n",
       "<table border=\"1\" class=\"dataframe\">\n",
       "  <thead>\n",
       "    <tr style=\"text-align: right;\">\n",
       "      <th></th>\n",
       "      <th>SaleID</th>\n",
       "      <th>ProductID</th>\n",
       "      <th>Quantity</th>\n",
       "      <th>Price</th>\n",
       "      <th>SaleDate</th>\n",
       "    </tr>\n",
       "  </thead>\n",
       "  <tbody>\n",
       "    <tr>\n",
       "      <th>0</th>\n",
       "      <td>1</td>\n",
       "      <td>101</td>\n",
       "      <td>2</td>\n",
       "      <td>19.99</td>\n",
       "      <td>2024-11-01</td>\n",
       "    </tr>\n",
       "    <tr>\n",
       "      <th>1</th>\n",
       "      <td>2</td>\n",
       "      <td>102</td>\n",
       "      <td>1</td>\n",
       "      <td>29.99</td>\n",
       "      <td>2024-11-02</td>\n",
       "    </tr>\n",
       "    <tr>\n",
       "      <th>2</th>\n",
       "      <td>3</td>\n",
       "      <td>103</td>\n",
       "      <td>3</td>\n",
       "      <td>24.99</td>\n",
       "      <td>2024-11-03</td>\n",
       "    </tr>\n",
       "    <tr>\n",
       "      <th>3</th>\n",
       "      <td>4</td>\n",
       "      <td>101</td>\n",
       "      <td>5</td>\n",
       "      <td>19.99</td>\n",
       "      <td>2024-11-04</td>\n",
       "    </tr>\n",
       "    <tr>\n",
       "      <th>4</th>\n",
       "      <td>5</td>\n",
       "      <td>104</td>\n",
       "      <td>2</td>\n",
       "      <td>39.99</td>\n",
       "      <td>2024-11-05</td>\n",
       "    </tr>\n",
       "  </tbody>\n",
       "</table>\n",
       "</div>"
      ],
      "text/plain": [
       "   SaleID  ProductID  Quantity  Price    SaleDate\n",
       "0       1        101         2  19.99  2024-11-01\n",
       "1       2        102         1  29.99  2024-11-02\n",
       "2       3        103         3  24.99  2024-11-03\n",
       "3       4        101         5  19.99  2024-11-04\n",
       "4       5        104         2  39.99  2024-11-05"
      ]
     },
     "execution_count": 139,
     "metadata": {},
     "output_type": "execute_result"
    }
   ],
   "source": [
    "#Rename column_name inconsistency across datasets. Product_ID in \"Sales Data\" ProductID in \"Inventory Data\"\n",
    "# we will rename Product_ID as ProductID\n",
    "sales_data.rename(columns={\"Product_ID\":\"ProductID\"},inplace=True)\n",
    "sales_data"
   ]
  },
  {
   "cell_type": "code",
   "execution_count": 140,
   "id": "5125bf1e-3d90-43a9-9ae7-7f3b2428ef41",
   "metadata": {},
   "outputs": [
    {
     "name": "stdout",
     "output_type": "stream",
     "text": [
      "<class 'pandas.core.frame.DataFrame'>\n",
      "RangeIndex: 5 entries, 0 to 4\n",
      "Data columns (total 5 columns):\n",
      " #   Column     Non-Null Count  Dtype  \n",
      "---  ------     --------------  -----  \n",
      " 0   SaleID     5 non-null      int64  \n",
      " 1   ProductID  5 non-null      int64  \n",
      " 2   Quantity   5 non-null      int64  \n",
      " 3   Price      5 non-null      float64\n",
      " 4   SaleDate   5 non-null      object \n",
      "dtypes: float64(1), int64(3), object(1)\n",
      "memory usage: 332.0+ bytes\n"
     ]
    }
   ],
   "source": [
    "sales_data.info() #In the info salesdate should be in date format, but it is rep as object"
   ]
  },
  {
   "cell_type": "code",
   "execution_count": 141,
   "id": "071844cb-173d-496b-8155-7f82cd256066",
   "metadata": {},
   "outputs": [
    {
     "name": "stdout",
     "output_type": "stream",
     "text": [
      "<class 'pandas.core.frame.DataFrame'>\n",
      "RangeIndex: 5 entries, 0 to 4\n",
      "Data columns (total 5 columns):\n",
      " #   Column     Non-Null Count  Dtype         \n",
      "---  ------     --------------  -----         \n",
      " 0   SaleID     5 non-null      Int64         \n",
      " 1   ProductID  5 non-null      Int64         \n",
      " 2   Quantity   5 non-null      Int64         \n",
      " 3   Price      5 non-null      Float64       \n",
      " 4   SaleDate   5 non-null      datetime64[ns]\n",
      "dtypes: Float64(1), Int64(3), datetime64[ns](1)\n",
      "memory usage: 352.0 bytes\n"
     ]
    }
   ],
   "source": [
    "sales_data=sales_data.convert_dtypes()  # converting all data into proper datatype. This wont work for date column\n",
    "sales_data['SaleDate'] = pd.to_datetime(sale_data['SaleDate'], errors='coerce') #convert datatype of datetime column\n",
    "sales_data.info()"
   ]
  },
  {
   "cell_type": "code",
   "execution_count": 142,
   "id": "c4c5cfe4-2ac6-4e8a-8d20-b06a4e7f4b71",
   "metadata": {},
   "outputs": [
    {
     "name": "stdout",
     "output_type": "stream",
     "text": [
      "\n",
      "Cleaned Sales Data:\n",
      "   SaleID  ProductID  Quantity  Price   SaleDate\n",
      "0       1        101         2  19.99 2024-11-01\n",
      "1       2        102         1  29.99 2024-11-02\n",
      "2       3        103         3  24.99 2024-11-03\n",
      "3       4        101         5  19.99 2024-11-04\n",
      "4       5        104         2  39.99 2024-11-05\n"
     ]
    }
   ],
   "source": [
    "print(\"\\nCleaned Sales Data:\")\n",
    "print(sales_data)"
   ]
  },
  {
   "cell_type": "markdown",
   "id": "6c8d96ef-aca0-42c1-81c3-90b0afd128d8",
   "metadata": {},
   "source": [
    "### Data Cleaning for inventory_data"
   ]
  },
  {
   "cell_type": "code",
   "execution_count": 198,
   "id": "a2d687f5-29ae-4054-b0ae-5884874ef37d",
   "metadata": {},
   "outputs": [
    {
     "data": {
      "text/plain": [
       "ProductID      0\n",
       "ProductName    0\n",
       "Stock          0\n",
       "dtype: int64"
      ]
     },
     "execution_count": 198,
     "metadata": {},
     "output_type": "execute_result"
    }
   ],
   "source": [
    "inventory_data.isna().sum() #checking for null values ;No null values"
   ]
  },
  {
   "cell_type": "code",
   "execution_count": 145,
   "id": "d0a9680e-be79-4b40-99cf-0c8dc29523b9",
   "metadata": {},
   "outputs": [
    {
     "data": {
      "text/plain": [
       "0"
      ]
     },
     "execution_count": 145,
     "metadata": {},
     "output_type": "execute_result"
    }
   ],
   "source": [
    "# check for duplicates\n",
    "inventory_data.duplicated().sum() #result is 0. so no duplicates"
   ]
  },
  {
   "cell_type": "code",
   "execution_count": 146,
   "id": "39655bb9-9973-4861-9a33-46fbe8f40dda",
   "metadata": {},
   "outputs": [
    {
     "name": "stdout",
     "output_type": "stream",
     "text": [
      "<class 'pandas.core.frame.DataFrame'>\n",
      "RangeIndex: 5 entries, 0 to 4\n",
      "Data columns (total 3 columns):\n",
      " #   Column       Non-Null Count  Dtype \n",
      "---  ------       --------------  ----- \n",
      " 0   ProductID    5 non-null      int64 \n",
      " 1   ProductName  5 non-null      object\n",
      " 2   Stock        5 non-null      int64 \n",
      "dtypes: int64(2), object(1)\n",
      "memory usage: 252.0+ bytes\n"
     ]
    }
   ],
   "source": [
    "inventory_data.info() # check for datatypes"
   ]
  },
  {
   "cell_type": "code",
   "execution_count": 147,
   "id": "fe6d1248-67a5-4b02-b9fa-2c466be15533",
   "metadata": {},
   "outputs": [
    {
     "name": "stdout",
     "output_type": "stream",
     "text": [
      "<class 'pandas.core.frame.DataFrame'>\n",
      "RangeIndex: 5 entries, 0 to 4\n",
      "Data columns (total 3 columns):\n",
      " #   Column       Non-Null Count  Dtype \n",
      "---  ------       --------------  ----- \n",
      " 0   ProductID    5 non-null      Int64 \n",
      " 1   ProductName  5 non-null      string\n",
      " 2   Stock        5 non-null      Int64 \n",
      "dtypes: Int64(2), string(1)\n",
      "memory usage: 262.0 bytes\n"
     ]
    }
   ],
   "source": [
    "# You can see ProductName should be string not object\n",
    "inventory_data=inventory_data.convert_dtypes()\n",
    "inventory_data.info()                            # its converted to string now"
   ]
  },
  {
   "cell_type": "code",
   "execution_count": 148,
   "id": "b9fc2fb7-d546-43a3-b8da-716d8d44a036",
   "metadata": {},
   "outputs": [
    {
     "name": "stdout",
     "output_type": "stream",
     "text": [
      "\n",
      "Cleaned inventory Data:\n",
      "   ProductID    ProductName  Stock\n",
      "0        101       Widget A     10\n",
      "1        102       Gadget B      5\n",
      "2        103  Thingamajig C      7\n",
      "3        104    Doohickey D      8\n",
      "4        105  Contraption E      3\n"
     ]
    }
   ],
   "source": [
    "print(\"\\nCleaned inventory Data:\")\n",
    "print(inventory_data)"
   ]
  },
  {
   "cell_type": "markdown",
   "id": "81c72810",
   "metadata": {},
   "source": [
    "## Task 3: Data Merging\n",
    "1. Merge the sales and inventory data."
   ]
  },
  {
   "cell_type": "code",
   "execution_count": 151,
   "id": "c5eafc30",
   "metadata": {},
   "outputs": [
    {
     "name": "stdout",
     "output_type": "stream",
     "text": [
      "\n",
      "Merged Data Info:\n",
      "<class 'pandas.core.frame.DataFrame'>\n",
      "RangeIndex: 5 entries, 0 to 4\n",
      "Data columns (total 7 columns):\n",
      " #   Column       Non-Null Count  Dtype         \n",
      "---  ------       --------------  -----         \n",
      " 0   SaleID       5 non-null      Int64         \n",
      " 1   ProductID    5 non-null      Int64         \n",
      " 2   Quantity     5 non-null      Int64         \n",
      " 3   Price        5 non-null      Float64       \n",
      " 4   SaleDate     5 non-null      datetime64[ns]\n",
      " 5   ProductName  5 non-null      string        \n",
      " 6   Stock        5 non-null      Int64         \n",
      "dtypes: Float64(1), Int64(4), datetime64[ns](1), string(1)\n",
      "memory usage: 437.0 bytes\n",
      "None\n",
      "   SaleID  ProductID  Quantity  Price   SaleDate    ProductName  Stock\n",
      "0       1        101         2  19.99 2024-11-01       Widget A     10\n",
      "1       2        102         1  29.99 2024-11-02       Gadget B      5\n",
      "2       3        103         3  24.99 2024-11-03  Thingamajig C      7\n",
      "3       4        101         5  19.99 2024-11-04       Widget A     10\n",
      "4       5        104         2  39.99 2024-11-05    Doohickey D      8\n"
     ]
    }
   ],
   "source": [
    "\n",
    "# Task 3: Data Merging\n",
    "# Merge sales and inventory data\n",
    "# TODO: Merge the datasets. Replace ColumnName with the key column name\n",
    "merged_data = pd.merge(sales_data, inventory_data, on='ProductID', how='left') \n",
    "\n",
    "# Inspect merged data\n",
    "print(\"\\nMerged Data Info:\")\n",
    "print(merged_data.info())\n",
    "print(merged_data.head())\n",
    "    "
   ]
  },
  {
   "cell_type": "markdown",
   "id": "f01196fe",
   "metadata": {},
   "source": [
    "## Task 4: Group and Aggregate Data\n",
    "1. Summarise the sales data by grouping it based on the product names and calculating the total quantities sold and total prices for each product.\n",
    "\n",
    "    - Identify the column that will act as the group.\n",
    "    - Decide on the aggregation functions to apply for other columns."
   ]
  },
  {
   "cell_type": "code",
   "execution_count": 153,
   "id": "3e13f256",
   "metadata": {},
   "outputs": [
    {
     "name": "stdout",
     "output_type": "stream",
     "text": [
      "\n",
      "Grouped Data (Total Sales per Product):\n",
      "               Quantity  Price\n",
      "ProductName                   \n",
      "Doohickey D           2  39.99\n",
      "Gadget B              1  29.99\n",
      "Thingamajig C         3  24.99\n",
      "Widget A              7  39.98\n"
     ]
    }
   ],
   "source": [
    "# Group and aggregate data\n",
    "# TODO: Group by products names and calculate total quantities sold and prices for each product.\n",
    "grouped_data = merged_data.groupby('ProductName').agg({'Quantity': 'sum', 'Price': 'sum'}) \n",
    "print(\"\\nGrouped Data (Total Sales per Product):\")\n",
    "print(grouped_data)\n",
    "    "
   ]
  },
  {
   "cell_type": "markdown",
   "id": "c2432cab",
   "metadata": {},
   "source": [
    "## Task 5: Pivot Table\n",
    "\n",
    "1. Create a table that summarises the quantity of products sold on each date, with product names as rows and dates as columns.\n",
    "\n",
    "    - Think about which columns will serve as the `rows` (index) and columns in your table.\n",
    "    - Identify the `values` you want to summarise and how they should be aggregated (e.g., summed up)."
   ]
  },
  {
   "cell_type": "code",
   "execution_count": 193,
   "id": "696ea7dc-b474-4d72-8ddc-8e1688fdb4cf",
   "metadata": {},
   "outputs": [
    {
     "name": "stdout",
     "output_type": "stream",
     "text": [
      "  ProductName 2024-11-01 2024-11-02 2024-11-03 2024-11-04 2024-11-05\n",
      "  Doohickey D                                                    2.0\n",
      "     Gadget B                   1.0                                 \n",
      "Thingamajig C                              3.0                      \n",
      "     Widget A        2.0                              5.0           \n"
     ]
    },
    {
     "name": "stderr",
     "output_type": "stream",
     "text": [
      "C:\\Users\\arulr\\AppData\\Local\\Temp\\ipykernel_54540\\131436339.py:16: FutureWarning: DataFrame.applymap has been deprecated. Use DataFrame.map instead.\n",
      "  pivot_table = pivot_table.applymap(lambda x: '' if pd.isna(x) else str(x))\n"
     ]
    }
   ],
   "source": [
    "# Create the pivot table\n",
    "pivot_table = merged_data.pivot_table(\n",
    "    index='ProductName',\n",
    "    columns='SaleDate',\n",
    "    values='Quantity',\n",
    "    aggfunc='sum'\n",
    ")\n",
    "\n",
    "# Drop the column name (optional, for clean display)\n",
    "pivot_table.columns.name = None\n",
    "\n",
    "# Convert column datetime index to string dates\n",
    "pivot_table.columns = [col.strftime('%Y-%m-%d') if hasattr(col, 'strftime') else col for col in pivot_table.columns]\n",
    "\n",
    "# Replace NaNs with None for integer columns, then convert to string\n",
    "pivot_table = pivot_table.applymap(lambda x: '' if pd.isna(x) else str(x))\n",
    "\n",
    "# Reset index to move ProductName back into a column\n",
    "pivot_table.reset_index(inplace=True)\n",
    "\n",
    "# Display the table\n",
    "print(pivot_table.to_string(index=False))"
   ]
  },
  {
   "cell_type": "markdown",
   "id": "b296e188",
   "metadata": {},
   "source": [
    "Your grouped data and pivot table are expected to look as follows:\n",
    "\n",
    "\n",
    "### Grouped Data (Total Sales per Product)\n",
    "\n",
    "| Product        | Quantity | Price  |\n",
    "|----------------|----------|--------|\n",
    "| Doohickey D    | 2        | 39.99  |\n",
    "| Gadget B       | 1        | 29.99  |\n",
    "| Thingamajig C  | 3        | 27.49  |\n",
    "| Widget A       | 7        | 39.98  |\n",
    "\n",
    "### Pivot Table (Sales by Product and Date)\n",
    "\n",
    "| Product        | 2024-11-01 | 2024-11-02 | 2024-11-03 | 2024-11-04 | 2024-11-05 |\n",
    "|----------------|------------|------------|------------|------------|------------|\n",
    "| Doohickey D    |            |            |            |            | 2.0        |\n",
    "| Gadget B       |            | 1.0        |            |            |            |\n",
    "| Thingamajig C  |            |            | 3.0        |            |            |\n",
    "| Widget A       | 2.0        |            |            | 5.0        |            |"
   ]
  }
 ],
 "metadata": {
  "kernelspec": {
   "display_name": "Python [conda env:base] *",
   "language": "python",
   "name": "conda-base-py"
  },
  "language_info": {
   "codemirror_mode": {
    "name": "ipython",
    "version": 3
   },
   "file_extension": ".py",
   "mimetype": "text/x-python",
   "name": "python",
   "nbconvert_exporter": "python",
   "pygments_lexer": "ipython3",
   "version": "3.12.7"
  }
 },
 "nbformat": 4,
 "nbformat_minor": 5
}

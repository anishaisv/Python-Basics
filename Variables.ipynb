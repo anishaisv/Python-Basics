{
 "cells": [
  {
   "cell_type": "code",
   "execution_count": 1,
   "id": "cc0a8fc2-8c63-4924-a215-2760684720ea",
   "metadata": {},
   "outputs": [
    {
     "name": "stdout",
     "output_type": "stream",
     "text": [
      "Hello\n"
     ]
    }
   ],
   "source": [
    "print(\"Hello\")"
   ]
  },
  {
   "cell_type": "code",
   "execution_count": 3,
   "id": "1e066c59-fd32-4681-b17e-e7484ef4da1d",
   "metadata": {},
   "outputs": [],
   "source": [
    "a=10"
   ]
  },
  {
   "cell_type": "code",
   "execution_count": 5,
   "id": "478a7e05-9659-49d4-86f8-074f51f86397",
   "metadata": {},
   "outputs": [
    {
     "name": "stdin",
     "output_type": "stream",
     "text": [
      "Enter 1st num: 1\n",
      "Enter 2nd num: 5\n"
     ]
    },
    {
     "name": "stdout",
     "output_type": "stream",
     "text": [
      "Sum is: 15\n"
     ]
    }
   ],
   "source": [
    "x=input(\"Enter 1st num:\")\n",
    "y=input(\"Enter 2nd num:\")\n",
    "z=x+y     \n",
    "print(\"Sum is:\",z)"
   ]
  },
  {
   "cell_type": "code",
   "execution_count": 7,
   "id": "ef1fdc0b-c70e-43d0-9002-6d78af93c492",
   "metadata": {},
   "outputs": [
    {
     "name": "stdin",
     "output_type": "stream",
     "text": [
      "Enter 1st num: 3\n",
      "Enter 2nd num: 3\n"
     ]
    },
    {
     "name": "stdout",
     "output_type": "stream",
     "text": [
      "Sum is: 6\n"
     ]
    }
   ],
   "source": [
    "#considered as string. so conver into integer\n",
    "x=input(\"Enter 1st num:\")\n",
    "y=input(\"Enter 2nd num:\")\n",
    "z=int(x)+int(y)     \n",
    "print(\"Sum is:\",z)"
   ]
  },
  {
   "cell_type": "code",
   "execution_count": null,
   "id": "311b069e-1c13-45c8-9455-00285a13c553",
   "metadata": {},
   "outputs": [],
   "source": []
  }
 ],
 "metadata": {
  "kernelspec": {
   "display_name": "Python [conda env:base] *",
   "language": "python",
   "name": "conda-base-py"
  },
  "language_info": {
   "codemirror_mode": {
    "name": "ipython",
    "version": 3
   },
   "file_extension": ".py",
   "mimetype": "text/x-python",
   "name": "python",
   "nbconvert_exporter": "python",
   "pygments_lexer": "ipython3",
   "version": "3.12.7"
  }
 },
 "nbformat": 4,
 "nbformat_minor": 5
}
